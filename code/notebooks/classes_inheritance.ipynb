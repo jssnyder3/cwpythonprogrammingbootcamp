{
 "cells": [
  {
   "cell_type": "markdown",
   "metadata": {},
   "source": [
    "## Let's go over some aspects of class inheritance\n",
    "\n"
   ]
  },
  {
   "cell_type": "code",
   "execution_count": 5,
   "metadata": {},
   "outputs": [
    {
     "name": "stdout",
     "output_type": "stream",
     "text": [
      "n_A =  1\n",
      "x =  None\n",
      "Object count =  1\n",
      "n_A =  2\n",
      "x =  hello world\n",
      "Object count =  2\n",
      "printing B...\n",
      "x accessed from B =  55\n",
      "n_A =  3\n",
      "x =  55\n",
      "Object count =  3\n",
      "Object count from B =  3\n",
      "n_A =  3\n",
      "x =  None\n",
      "n_A =  3\n",
      "x =  hello world\n",
      "printing B...\n",
      "x accessed from B =  55\n",
      "n_A =  3\n",
      "x =  55\n"
     ]
    }
   ],
   "source": [
    "\n",
    "class A():\n",
    "\n",
    "    # static variable with default value\n",
    "    n_A = 0\n",
    "\n",
    "    def __init__(self, x = None):\n",
    "        \"\"\"\n",
    "        Constructor for A\n",
    "        \"\"\"\n",
    "        # increment static variable\n",
    "        A.n_A += 1\n",
    "        # declare and initialise instance variable\n",
    "        self.x = x\n",
    "\n",
    "    def print_out(self):\n",
    "        print('n_A = ', A.n_A)\n",
    "        print('x = ', self.x)\n",
    "        \n",
    "    # access static variable from same class\n",
    "    @classmethod\n",
    "    def get_object_count(cls):\n",
    "        return cls.n_A\n",
    "\n",
    "\n",
    "class B(A):\n",
    "\n",
    "    def __init__(self, x = None):\n",
    "        \"\"\"\n",
    "        Constructor for B\n",
    "        \"\"\"\n",
    "        super().__init__(x)\n",
    "\n",
    "    def print_out(self):\n",
    "        print('printing B...')\n",
    "        # access instance variable from parent class\n",
    "        print('x accessed from B = ', self.x)\n",
    "        super().print_out()\n",
    "\n",
    "    # access static variable from parent class\n",
    "    @classmethod\n",
    "    def get_object_count_from_B(cls):\n",
    "        return cls.n_A\n",
    "\n",
    "\n",
    "\n",
    "def do_stuff():\n",
    "    a1 = A()\n",
    "    a1.print_out()\n",
    "    print('Object count = ', a1.get_object_count())\n",
    "    a2 = A('hello world')\n",
    "    a2.print_out()\n",
    "    print('Object count = ', a2.get_object_count())\n",
    "    b1 = B(55)\n",
    "    b1.print_out()\n",
    "    print('Object count = ', b1.get_object_count())\n",
    "    print('Object count from B = ', b1.get_object_count_from_B())\n",
    "    for x in [a1, a2, b1]:\n",
    "        x.print_out()\n",
    "\n",
    "if __name__ == '__main__':\n",
    "    do_stuff()\n",
    "\n",
    "\n"
   ]
  },
  {
   "cell_type": "code",
   "execution_count": null,
   "metadata": {
    "collapsed": true
   },
   "outputs": [],
   "source": [
    "\n",
    "    \n",
    "    \n",
    "    "
   ]
  },
  {
   "cell_type": "code",
   "execution_count": null,
   "metadata": {
    "collapsed": true
   },
   "outputs": [],
   "source": []
  }
 ],
 "metadata": {
  "kernelspec": {
   "display_name": "Python 3",
   "language": "python",
   "name": "python3"
  },
  "language_info": {
   "codemirror_mode": {
    "name": "ipython",
    "version": 3
   },
   "file_extension": ".py",
   "mimetype": "text/x-python",
   "name": "python",
   "nbconvert_exporter": "python",
   "pygments_lexer": "ipython3",
   "version": "3.6.1"
  }
 },
 "nbformat": 4,
 "nbformat_minor": 2
}
