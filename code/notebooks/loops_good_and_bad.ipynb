{
 "cells": [
  {
   "cell_type": "markdown",
   "metadata": {},
   "source": [
    "# Loops can illustrate a few points about algorithms and Python in general\n",
    "\n",
    "## Order is important\n",
    "\n",
    "### This loop is OK"
   ]
  },
  {
   "cell_type": "code",
   "execution_count": null,
   "metadata": {},
   "outputs": [],
   "source": [
    "# GOOD LOOP\n",
    "x = 0\n",
    "while x < 10:\n",
    "    if x % 2 == 0:\n",
    "        print(x)\n",
    "    x += 1\n",
    "\n"
   ]
  },
  {
   "cell_type": "markdown",
   "metadata": {},
   "source": [
    "### Order is important\n",
    "\n",
    "This loop will not work.\n",
    "\n",
    "You will need to terminate it with the 'stop' button."
   ]
  },
  {
   "cell_type": "code",
   "execution_count": null,
   "metadata": {},
   "outputs": [],
   "source": [
    "# BAD LOOP\n",
    "x = 0\n",
    "x += 1\n",
    "while x < 10:\n",
    "    if x % 2 == 0:\n",
    "        print(x)"
   ]
  },
  {
   "cell_type": "markdown",
   "metadata": {},
   "source": [
    "### In Python, indentation is important\n",
    "\n",
    "This loop is different to the working example only in the indentation of one single line.  It will not work.\n",
    "\n",
    "You will need to terminate it with the 'stop' button."
   ]
  },
  {
   "cell_type": "code",
   "execution_count": null,
   "metadata": {},
   "outputs": [],
   "source": [
    "# INDENTATION CAN BE A KILLER\n",
    "x = 0\n",
    "while x < 10:\n",
    "    if x % 2 == 0:\n",
    "        print(x)\n",
    "        x += 1"
   ]
  },
  {
   "cell_type": "code",
   "execution_count": null,
   "metadata": {
    "collapsed": true
   },
   "outputs": [],
   "source": []
  }
 ],
 "metadata": {
  "kernelspec": {
   "display_name": "Python 3",
   "language": "python",
   "name": "python3"
  },
  "language_info": {
   "codemirror_mode": {
    "name": "ipython",
    "version": 3
   },
   "file_extension": ".py",
   "mimetype": "text/x-python",
   "name": "python",
   "nbconvert_exporter": "python",
   "pygments_lexer": "ipython3",
   "version": "3.6.1"
  }
 },
 "nbformat": 4,
 "nbformat_minor": 2
}
