{
 "cells": [
  {
   "cell_type": "markdown",
   "metadata": {},
   "source": [
    "## A development web server with Python\n",
    "\n",
    "1. Press play on the below cell.\n",
    "2. Open a new browser tab and type 'http://127.0.0.1:9000' into the address bar\n",
    "3. View the content displayed.\n",
    "4. Press stop on the below cell."
   ]
  },
  {
   "cell_type": "code",
   "execution_count": null,
   "metadata": {},
   "outputs": [],
   "source": [
    "import http.server\n",
    "import socketserver\n",
    "\n",
    "\n",
    "INDEX_HTML = \"\"\"\n",
    "<html>\n",
    "  <head>\n",
    "    <!--Load the AJAX API-->\n",
    "    <script type=\"text/javascript\" src=\"https://www.gstatic.com/charts/loader.js\"></script>\n",
    "    <script type=\"text/javascript\">\n",
    "\n",
    "      // Load the Visualization API and the corechart package.\n",
    "      google.charts.load('current', {'packages':['corechart']});\n",
    "\n",
    "      // Set a callback to run when the Google Visualization API is loaded.\n",
    "      google.charts.setOnLoadCallback(drawChart);\n",
    "\n",
    "      // Callback that creates and populates a data table,\n",
    "      // instantiates the pie chart, passes in the data and\n",
    "      // draws it.\n",
    "      function drawChart() {\n",
    "\n",
    "        // Create the data table.\n",
    "        var data = new google.visualization.DataTable();\n",
    "        data.addColumn('string', 'Topping');\n",
    "        data.addColumn('number', 'Slices');\n",
    "        data.addRows([\n",
    "          ['Mushrooms', 3],\n",
    "          ['Onions', 1],\n",
    "          ['Olives', 1],\n",
    "          ['Zucchini', 1],\n",
    "          ['Pepperoni', 2]\n",
    "        ]);\n",
    "\n",
    "        // Set chart options\n",
    "        var options = {'title':'How Much Pizza I Ate Last Night',\n",
    "                       'width':400,\n",
    "                       'height':300};\n",
    "\n",
    "        // Instantiate and draw our chart, passing in some options.\n",
    "        var chart = new google.visualization.PieChart(document.getElementById('chart_div'));\n",
    "        chart.draw(data, options);\n",
    "      }\n",
    "    </script>\n",
    "  </head>\n",
    "\n",
    "  <body>\n",
    "    <!--Div that will hold the pie chart-->\n",
    "    <div id=\"chart_div\"></div>\n",
    "  </body>\n",
    "</html>\n",
    "\"\"\"\n",
    "\n",
    "class Handler(http.server.SimpleHTTPRequestHandler):\n",
    "\n",
    "    def do_GET(self):\n",
    "\n",
    "        # Construct a server response.\n",
    "        self.send_response(200)\n",
    "        self.send_header('Content-type',\n",
    "                         'text/html')\n",
    "        self.end_headers()\n",
    "        self.wfile.write(INDEX_HTML.encode('utf-8'))\n",
    "        return\n",
    "\n",
    "def run_server(address, port):\n",
    "    with socketserver.TCPServer((\"\", port), Handler) as httpd:\n",
    "        print(\"serving at port\", port)\n",
    "        httpd.serve_forever()\n",
    "\n",
    "if __name__ == '__main__':\n",
    "    run_server('127.0.0.1', 9000)"
   ]
  },
  {
   "cell_type": "markdown",
   "metadata": {},
   "source": [
    "## Mini exercise\n",
    "\n",
    "1. Change the content being served.  (I suggest visiting https://developers.google.com/chart/interactive/docs/gallery)\n",
    "2. Start the server again and verify the new content.\n"
   ]
  },
  {
   "cell_type": "code",
   "execution_count": null,
   "metadata": {
    "collapsed": true
   },
   "outputs": [],
   "source": []
  }
 ],
 "metadata": {
  "kernelspec": {
   "display_name": "Python 3",
   "language": "python",
   "name": "python3"
  },
  "language_info": {
   "codemirror_mode": {
    "name": "ipython",
    "version": 3
   },
   "file_extension": ".py",
   "mimetype": "text/x-python",
   "name": "python",
   "nbconvert_exporter": "python",
   "pygments_lexer": "ipython3",
   "version": "3.6.1"
  }
 },
 "nbformat": 4,
 "nbformat_minor": 2
}
