{
 "cells": [
  {
   "cell_type": "code",
   "execution_count": 10,
   "metadata": {
    "collapsed": true
   },
   "outputs": [],
   "source": [
    "def counter_factory(initial_val):\n",
    "    def counter():\n",
    "        nonlocal initial_val\n",
    "        initial_val += 1\n",
    "        return initial_val\n",
    "    return counter"
   ]
  },
  {
   "cell_type": "code",
   "execution_count": 11,
   "metadata": {
    "collapsed": true
   },
   "outputs": [],
   "source": [
    "counter_1 = counter_factory(1)\n",
    "counter_1000 = counter_factory(1000)"
   ]
  },
  {
   "cell_type": "code",
   "execution_count": 14,
   "metadata": {},
   "outputs": [
    {
     "name": "stdout",
     "output_type": "stream",
     "text": [
      "incrementing counter_1, count =  4\n",
      "incrementing counter_1000, count =  1001\n",
      "incrementing counter_1, count =  5\n",
      "incrementing counter_1000, count =  1002\n",
      "incrementing counter_1, count =  6\n",
      "incrementing counter_1000, count =  1003\n",
      "incrementing counter_1, count =  7\n",
      "incrementing counter_1000, count =  1004\n",
      "incrementing counter_1, count =  8\n",
      "incrementing counter_1000, count =  1005\n"
     ]
    }
   ],
   "source": [
    "for x in range(1,6):\n",
    "    print('incrementing counter_1, count = ', counter_1())\n",
    "    print('incrementing counter_1000, count = ', counter_1000())"
   ]
  },
  {
   "cell_type": "code",
   "execution_count": null,
   "metadata": {
    "collapsed": true
   },
   "outputs": [],
   "source": []
  }
 ],
 "metadata": {
  "kernelspec": {
   "display_name": "Python 3",
   "language": "python",
   "name": "python3"
  },
  "language_info": {
   "codemirror_mode": {
    "name": "ipython",
    "version": 3
   },
   "file_extension": ".py",
   "mimetype": "text/x-python",
   "name": "python",
   "nbconvert_exporter": "python",
   "pygments_lexer": "ipython3",
   "version": "3.6.1"
  }
 },
 "nbformat": 4,
 "nbformat_minor": 2
}
