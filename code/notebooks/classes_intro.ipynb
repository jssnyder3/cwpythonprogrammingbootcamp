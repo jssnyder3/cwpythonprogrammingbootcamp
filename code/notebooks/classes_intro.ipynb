{
 "cells": [
  {
   "cell_type": "markdown",
   "metadata": {},
   "source": [
    "## Classes\n",
    "\n",
    "### Let us take a look at classes, constructors, static variables and instance variables"
   ]
  },
  {
   "cell_type": "code",
   "execution_count": 4,
   "metadata": {},
   "outputs": [
    {
     "name": "stdout",
     "output_type": "stream",
     "text": [
      "n_A =  1\n",
      "x =  None\n",
      "n_A =  2\n",
      "x =  hello world\n",
      "n_A =  3\n",
      "x =  55\n",
      "n_A =  3\n",
      "x =  None\n",
      "3\n",
      "n_A =  3\n",
      "x =  hello world\n",
      "3\n",
      "n_A =  3\n",
      "x =  55\n",
      "3\n"
     ]
    }
   ],
   "source": [
    "class A():\n",
    "\n",
    "    # static variable with default value\n",
    "    n_A = 0\n",
    "\n",
    "    def __init__(self, x = None):\n",
    "        \"\"\"\n",
    "        Constructor for A\n",
    "        \"\"\"\n",
    "        # increment static variable\n",
    "        A.n_A += 1\n",
    "        # declare and initialise instance variable\n",
    "        self.x = x\n",
    "\n",
    "    def print_out(self):\n",
    "        print('n_A = ', A.n_A)\n",
    "        print('x = ', self.x)\n",
    "        \n",
    "    @classmethod\n",
    "    def better_accessor(cls):\n",
    "        return cls.n_A\n",
    "\n",
    "\n",
    "\n",
    "def do_stuff():\n",
    "    a1 = A()\n",
    "    a1.print_out()\n",
    "    a2 = A('hello world')\n",
    "    a2.print_out()\n",
    "    a3 = A(55)\n",
    "    a3.print_out()\n",
    "    for x in [a1, a2, a3]:\n",
    "        x.print_out()\n",
    "        print(x.better_accessor())\n",
    "    \n",
    "\n",
    "if __name__ == '__main__':\n",
    "    do_stuff()"
   ]
  },
  {
   "cell_type": "markdown",
   "metadata": {},
   "source": [
    "### Now create variables and methods to:\n",
    "1. store an integer value (apart from 'x' and 'n_A')\n",
    "2. return the square of our new integer value\n",
    "\n",
    "Do you foresee any potential problems in adding a new variable in this way?"
   ]
  },
  {
   "cell_type": "code",
   "execution_count": null,
   "metadata": {
    "collapsed": true
   },
   "outputs": [],
   "source": []
  }
 ],
 "metadata": {
  "kernelspec": {
   "display_name": "Python 3",
   "language": "python",
   "name": "python3"
  },
  "language_info": {
   "codemirror_mode": {
    "name": "ipython",
    "version": 3
   },
   "file_extension": ".py",
   "mimetype": "text/x-python",
   "name": "python",
   "nbconvert_exporter": "python",
   "pygments_lexer": "ipython3",
   "version": "3.6.1"
  }
 },
 "nbformat": 4,
 "nbformat_minor": 2
}
